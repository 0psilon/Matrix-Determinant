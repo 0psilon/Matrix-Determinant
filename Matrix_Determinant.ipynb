{
 "cells": [
  {
   "cell_type": "code",
   "execution_count": 5,
   "id": "4b3a8761",
   "metadata": {
    "scrolled": true
   },
   "outputs": [
    {
     "name": "stdout",
     "output_type": "stream",
     "text": [
      "2\n",
      "1 3\n",
      "5 6\n"
     ]
    }
   ],
   "source": [
    "n = int(input())\n",
    "matrix = [[int(i) for i in input().split()] for _ in range(n)] #initialization of a matrix"
   ]
  },
  {
   "cell_type": "code",
   "execution_count": 6,
   "id": "882481ee",
   "metadata": {},
   "outputs": [
    {
     "name": "stdout",
     "output_type": "stream",
     "text": [
      "-9.0\n"
     ]
    }
   ],
   "source": [
    "counter = 0\n",
    "ans = 1\n",
    "\n",
    "for g in range(n): #checking if not a zero column\n",
    "    if matrix[g][0] == 0:\n",
    "        counter += 1\n",
    "\n",
    "if counter == n:\n",
    "    ans = 0\n",
    "else:\n",
    "    for rep in range(n - 1): #making a triangular matrix\n",
    "        if matrix[rep][rep] == 0:\n",
    "            for i in range(rep, n):\n",
    "                if matrix[i][rep] != 0: \n",
    "                    matrix[rep], matrix[i] = matrix[i], matrix[rep]\n",
    "                    ans *= -1\n",
    "                    break\n",
    "                    \n",
    "        for j in range(rep + 1, n):\n",
    "            if matrix[j][rep] != 0:\n",
    "                coeff = matrix[j][rep] / matrix[rep][rep]\n",
    "                for k in range(rep, n):                \n",
    "                    matrix[j][k] += (-1 * coeff * matrix[rep][k])\n",
    "    \n",
    "for i in range(n): #calculating triangular matrix determinant by multiplying the main diagonal values\n",
    "    ans *= matrix[i][i]\n",
    "\n",
    "print(ans)"
   ]
  }
 ],
 "metadata": {
  "kernelspec": {
   "display_name": "Python 3 (ipykernel)",
   "language": "python",
   "name": "python3"
  },
  "language_info": {
   "codemirror_mode": {
    "name": "ipython",
    "version": 3
   },
   "file_extension": ".py",
   "mimetype": "text/x-python",
   "name": "python",
   "nbconvert_exporter": "python",
   "pygments_lexer": "ipython3",
   "version": "3.8.8"
  }
 },
 "nbformat": 4,
 "nbformat_minor": 5
}
